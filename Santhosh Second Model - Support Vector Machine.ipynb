{
 "cells": [
  {
   "cell_type": "markdown",
   "id": "f8f31793",
   "metadata": {},
   "source": [
    "# Support Vector Machine:"
   ]
  },
  {
   "cell_type": "markdown",
   "id": "70878bfe",
   "metadata": {},
   "source": [
    "   Support Vector Machine or SVM is one of the most popular Supervised Learning algorithms, which is used for Classification as well as Regression problems. However, primarily, it is used for Classification problems in Machine Learning.\n",
    "\n",
    "The goal of the SVM algorithm is to create the best line or decision boundary that can segregate n-dimensional space into classes so that we can easily put the new data point in the correct category in the future. This best decision boundary is called a hyperplane.\n",
    "\n",
    "SVM chooses the extreme points/vectors that help in creating the hyperplane. These extreme cases are called as support vectors, and hence algorithm is termed as Support Vector Machine. Consider the below diagram in which there are two different categories that are classified using a decision boundary or hyperplane"
   ]
  },
  {
   "cell_type": "markdown",
   "id": "db723b35",
   "metadata": {},
   "source": [
    "# Why we use SVM?"
   ]
  },
  {
   "cell_type": "markdown",
   "id": "27c30017",
   "metadata": {},
   "source": [
    "SVM can work very well if we can find the right kernel and if we can find a kernel designed for a specific domain, it can outperform most other techniques and give phenomenal results.  However, just to keep things simple, we will stick with the basic ones = a linear kernel, a polynomial kernel and an RBF kernel which comes right out of the box in sklearn.  They hyperplane is affected by only the support vectors thus outliers have less impact"
   ]
  },
  {
   "cell_type": "markdown",
   "id": "1ae15165",
   "metadata": {},
   "source": [
    "# Import the required libraries"
   ]
  },
  {
   "cell_type": "code",
   "execution_count": 1,
   "id": "b47eb500",
   "metadata": {},
   "outputs": [],
   "source": [
    "import numpy as np \n",
    "import pandas as pd \n",
    "import matplotlib.pyplot as plt \n",
    "%matplotlib inline\n",
    "import seaborn as sns\n",
    "from sklearn.preprocessing import StandardScaler\n",
    "from sklearn.model_selection import train_test_split\n",
    "from sklearn.metrics import r2_score\n",
    "from sklearn.metrics import confusion_matrix, accuracy_score\n",
    "from sklearn.svm import SVC\n",
    "import pickle"
   ]
  },
  {
   "cell_type": "markdown",
   "id": "957120f8",
   "metadata": {},
   "source": [
    "# Import the dataset"
   ]
  },
  {
   "cell_type": "code",
   "execution_count": 2,
   "id": "0ce0a9f5",
   "metadata": {},
   "outputs": [],
   "source": [
    "data=pd.read_csv(\"New Stock Data.csv\")"
   ]
  },
  {
   "cell_type": "markdown",
   "id": "49b7ed7d",
   "metadata": {},
   "source": [
    "# Dataset informations"
   ]
  },
  {
   "cell_type": "code",
   "execution_count": 3,
   "id": "f2d5c1e4",
   "metadata": {},
   "outputs": [
    {
     "name": "stdout",
     "output_type": "stream",
     "text": [
      "<class 'pandas.core.frame.DataFrame'>\n",
      "RangeIndex: 89929 entries, 0 to 89928\n",
      "Data columns (total 8 columns):\n",
      " #   Column     Non-Null Count  Dtype  \n",
      "---  ------     --------------  -----  \n",
      " 0   Date       89929 non-null  object \n",
      " 1   Open       89929 non-null  float64\n",
      " 2   High       89929 non-null  float64\n",
      " 3   Low        89929 non-null  float64\n",
      " 4   Close      89929 non-null  float64\n",
      " 5   Adj Close  89929 non-null  float64\n",
      " 6   Volume     89929 non-null  float64\n",
      " 7   Symbol     89929 non-null  object \n",
      "dtypes: float64(6), object(2)\n",
      "memory usage: 5.5+ MB\n"
     ]
    }
   ],
   "source": [
    "data.info()"
   ]
  },
  {
   "cell_type": "code",
   "execution_count": 4,
   "id": "31ddc6d2",
   "metadata": {},
   "outputs": [
    {
     "data": {
      "text/plain": [
       "(89929, 8)"
      ]
     },
     "execution_count": 4,
     "metadata": {},
     "output_type": "execute_result"
    }
   ],
   "source": [
    "data.shape"
   ]
  },
  {
   "cell_type": "markdown",
   "id": "cd603545",
   "metadata": {},
   "source": [
    "# Drop Symbol column and add two more column using Close column"
   ]
  },
  {
   "cell_type": "code",
   "execution_count": 5,
   "id": "f4f1b5df",
   "metadata": {},
   "outputs": [],
   "source": [
    "data = data.drop(['Symbol'], axis = 1)"
   ]
  },
  {
   "cell_type": "code",
   "execution_count": 6,
   "id": "7918e777",
   "metadata": {},
   "outputs": [],
   "source": [
    "data[\"Date\"]=pd.to_datetime(data['Date'])    "
   ]
  },
  {
   "cell_type": "code",
   "execution_count": 7,
   "id": "f673cea9",
   "metadata": {},
   "outputs": [],
   "source": [
    "data['Change %']= data['Close'].pct_change()*100"
   ]
  },
  {
   "cell_type": "code",
   "execution_count": 8,
   "id": "2f41cc11",
   "metadata": {},
   "outputs": [],
   "source": [
    "data['Change %'] = data['Change %'].fillna(0)"
   ]
  },
  {
   "cell_type": "code",
   "execution_count": 9,
   "id": "a93fcfc8",
   "metadata": {},
   "outputs": [],
   "source": [
    "data['Return'] = data['Change %'].apply(lambda x: 1 if x >= 0 else 0)"
   ]
  },
  {
   "cell_type": "code",
   "execution_count": 10,
   "id": "770ce2ca",
   "metadata": {},
   "outputs": [
    {
     "data": {
      "text/html": [
       "<div>\n",
       "<style scoped>\n",
       "    .dataframe tbody tr th:only-of-type {\n",
       "        vertical-align: middle;\n",
       "    }\n",
       "\n",
       "    .dataframe tbody tr th {\n",
       "        vertical-align: top;\n",
       "    }\n",
       "\n",
       "    .dataframe thead th {\n",
       "        text-align: right;\n",
       "    }\n",
       "</style>\n",
       "<table border=\"1\" class=\"dataframe\">\n",
       "  <thead>\n",
       "    <tr style=\"text-align: right;\">\n",
       "      <th></th>\n",
       "      <th>Date</th>\n",
       "      <th>Open</th>\n",
       "      <th>High</th>\n",
       "      <th>Low</th>\n",
       "      <th>Close</th>\n",
       "      <th>Adj Close</th>\n",
       "      <th>Volume</th>\n",
       "      <th>Change %</th>\n",
       "      <th>Return</th>\n",
       "    </tr>\n",
       "  </thead>\n",
       "  <tbody>\n",
       "    <tr>\n",
       "      <th>0</th>\n",
       "      <td>2019-08-02</td>\n",
       "      <td>48.599998</td>\n",
       "      <td>48.930000</td>\n",
       "      <td>48.470001</td>\n",
       "      <td>48.910000</td>\n",
       "      <td>46.454433</td>\n",
       "      <td>906700.0</td>\n",
       "      <td>0.000000</td>\n",
       "      <td>1</td>\n",
       "    </tr>\n",
       "    <tr>\n",
       "      <th>1</th>\n",
       "      <td>2019-11-02</td>\n",
       "      <td>48.680000</td>\n",
       "      <td>48.810001</td>\n",
       "      <td>48.419998</td>\n",
       "      <td>48.660000</td>\n",
       "      <td>46.216980</td>\n",
       "      <td>1001200.0</td>\n",
       "      <td>-0.511143</td>\n",
       "      <td>0</td>\n",
       "    </tr>\n",
       "    <tr>\n",
       "      <th>2</th>\n",
       "      <td>2019-12-02</td>\n",
       "      <td>48.990002</td>\n",
       "      <td>49.480000</td>\n",
       "      <td>48.830002</td>\n",
       "      <td>49.400002</td>\n",
       "      <td>46.919834</td>\n",
       "      <td>868600.0</td>\n",
       "      <td>1.520760</td>\n",
       "      <td>1</td>\n",
       "    </tr>\n",
       "    <tr>\n",
       "      <th>3</th>\n",
       "      <td>2019-02-13</td>\n",
       "      <td>49.040001</td>\n",
       "      <td>49.279999</td>\n",
       "      <td>49.020000</td>\n",
       "      <td>49.090000</td>\n",
       "      <td>46.625393</td>\n",
       "      <td>868900.0</td>\n",
       "      <td>-0.627533</td>\n",
       "      <td>0</td>\n",
       "    </tr>\n",
       "    <tr>\n",
       "      <th>4</th>\n",
       "      <td>2019-02-20</td>\n",
       "      <td>49.840000</td>\n",
       "      <td>50.009998</td>\n",
       "      <td>49.549999</td>\n",
       "      <td>49.700001</td>\n",
       "      <td>47.204773</td>\n",
       "      <td>1063800.0</td>\n",
       "      <td>1.242617</td>\n",
       "      <td>1</td>\n",
       "    </tr>\n",
       "    <tr>\n",
       "      <th>...</th>\n",
       "      <td>...</td>\n",
       "      <td>...</td>\n",
       "      <td>...</td>\n",
       "      <td>...</td>\n",
       "      <td>...</td>\n",
       "      <td>...</td>\n",
       "      <td>...</td>\n",
       "      <td>...</td>\n",
       "      <td>...</td>\n",
       "    </tr>\n",
       "    <tr>\n",
       "      <th>89924</th>\n",
       "      <td>2022-02-02</td>\n",
       "      <td>15.300000</td>\n",
       "      <td>15.300000</td>\n",
       "      <td>13.760000</td>\n",
       "      <td>13.870000</td>\n",
       "      <td>13.870000</td>\n",
       "      <td>65500.0</td>\n",
       "      <td>-9.759271</td>\n",
       "      <td>0</td>\n",
       "    </tr>\n",
       "    <tr>\n",
       "      <th>89925</th>\n",
       "      <td>2022-03-02</td>\n",
       "      <td>13.500000</td>\n",
       "      <td>14.000000</td>\n",
       "      <td>13.310000</td>\n",
       "      <td>13.640000</td>\n",
       "      <td>13.640000</td>\n",
       "      <td>39500.0</td>\n",
       "      <td>-1.658252</td>\n",
       "      <td>0</td>\n",
       "    </tr>\n",
       "    <tr>\n",
       "      <th>89926</th>\n",
       "      <td>2022-04-02</td>\n",
       "      <td>13.620000</td>\n",
       "      <td>14.920000</td>\n",
       "      <td>13.530000</td>\n",
       "      <td>14.720000</td>\n",
       "      <td>14.720000</td>\n",
       "      <td>50700.0</td>\n",
       "      <td>7.917888</td>\n",
       "      <td>1</td>\n",
       "    </tr>\n",
       "    <tr>\n",
       "      <th>89927</th>\n",
       "      <td>2022-07-02</td>\n",
       "      <td>14.590000</td>\n",
       "      <td>16.160000</td>\n",
       "      <td>14.470000</td>\n",
       "      <td>14.960000</td>\n",
       "      <td>14.960000</td>\n",
       "      <td>74000.0</td>\n",
       "      <td>1.630433</td>\n",
       "      <td>1</td>\n",
       "    </tr>\n",
       "    <tr>\n",
       "      <th>89928</th>\n",
       "      <td>2022-08-02</td>\n",
       "      <td>14.800000</td>\n",
       "      <td>15.200000</td>\n",
       "      <td>14.010000</td>\n",
       "      <td>14.700000</td>\n",
       "      <td>14.700000</td>\n",
       "      <td>36000.0</td>\n",
       "      <td>-1.737969</td>\n",
       "      <td>0</td>\n",
       "    </tr>\n",
       "  </tbody>\n",
       "</table>\n",
       "<p>89929 rows × 9 columns</p>\n",
       "</div>"
      ],
      "text/plain": [
       "            Date       Open       High        Low      Close  Adj Close  \\\n",
       "0     2019-08-02  48.599998  48.930000  48.470001  48.910000  46.454433   \n",
       "1     2019-11-02  48.680000  48.810001  48.419998  48.660000  46.216980   \n",
       "2     2019-12-02  48.990002  49.480000  48.830002  49.400002  46.919834   \n",
       "3     2019-02-13  49.040001  49.279999  49.020000  49.090000  46.625393   \n",
       "4     2019-02-20  49.840000  50.009998  49.549999  49.700001  47.204773   \n",
       "...          ...        ...        ...        ...        ...        ...   \n",
       "89924 2022-02-02  15.300000  15.300000  13.760000  13.870000  13.870000   \n",
       "89925 2022-03-02  13.500000  14.000000  13.310000  13.640000  13.640000   \n",
       "89926 2022-04-02  13.620000  14.920000  13.530000  14.720000  14.720000   \n",
       "89927 2022-07-02  14.590000  16.160000  14.470000  14.960000  14.960000   \n",
       "89928 2022-08-02  14.800000  15.200000  14.010000  14.700000  14.700000   \n",
       "\n",
       "          Volume  Change %  Return  \n",
       "0       906700.0  0.000000       1  \n",
       "1      1001200.0 -0.511143       0  \n",
       "2       868600.0  1.520760       1  \n",
       "3       868900.0 -0.627533       0  \n",
       "4      1063800.0  1.242617       1  \n",
       "...          ...       ...     ...  \n",
       "89924    65500.0 -9.759271       0  \n",
       "89925    39500.0 -1.658252       0  \n",
       "89926    50700.0  7.917888       1  \n",
       "89927    74000.0  1.630433       1  \n",
       "89928    36000.0 -1.737969       0  \n",
       "\n",
       "[89929 rows x 9 columns]"
      ]
     },
     "execution_count": 10,
     "metadata": {},
     "output_type": "execute_result"
    }
   ],
   "source": [
    "data"
   ]
  },
  {
   "cell_type": "code",
   "execution_count": 11,
   "id": "b172d98e",
   "metadata": {},
   "outputs": [],
   "source": [
    "data=data.set_index([\"Date\"])"
   ]
  },
  {
   "cell_type": "code",
   "execution_count": 12,
   "id": "7442b986",
   "metadata": {},
   "outputs": [
    {
     "data": {
      "text/html": [
       "<div>\n",
       "<style scoped>\n",
       "    .dataframe tbody tr th:only-of-type {\n",
       "        vertical-align: middle;\n",
       "    }\n",
       "\n",
       "    .dataframe tbody tr th {\n",
       "        vertical-align: top;\n",
       "    }\n",
       "\n",
       "    .dataframe thead th {\n",
       "        text-align: right;\n",
       "    }\n",
       "</style>\n",
       "<table border=\"1\" class=\"dataframe\">\n",
       "  <thead>\n",
       "    <tr style=\"text-align: right;\">\n",
       "      <th></th>\n",
       "      <th>Open</th>\n",
       "      <th>High</th>\n",
       "      <th>Low</th>\n",
       "      <th>Close</th>\n",
       "      <th>Adj Close</th>\n",
       "      <th>Volume</th>\n",
       "      <th>Change %</th>\n",
       "      <th>Return</th>\n",
       "    </tr>\n",
       "    <tr>\n",
       "      <th>Date</th>\n",
       "      <th></th>\n",
       "      <th></th>\n",
       "      <th></th>\n",
       "      <th></th>\n",
       "      <th></th>\n",
       "      <th></th>\n",
       "      <th></th>\n",
       "      <th></th>\n",
       "    </tr>\n",
       "  </thead>\n",
       "  <tbody>\n",
       "    <tr>\n",
       "      <th>2019-08-02</th>\n",
       "      <td>48.599998</td>\n",
       "      <td>48.930000</td>\n",
       "      <td>48.470001</td>\n",
       "      <td>48.910000</td>\n",
       "      <td>46.454433</td>\n",
       "      <td>906700.0</td>\n",
       "      <td>0.000000</td>\n",
       "      <td>1</td>\n",
       "    </tr>\n",
       "    <tr>\n",
       "      <th>2019-11-02</th>\n",
       "      <td>48.680000</td>\n",
       "      <td>48.810001</td>\n",
       "      <td>48.419998</td>\n",
       "      <td>48.660000</td>\n",
       "      <td>46.216980</td>\n",
       "      <td>1001200.0</td>\n",
       "      <td>-0.511143</td>\n",
       "      <td>0</td>\n",
       "    </tr>\n",
       "    <tr>\n",
       "      <th>2019-12-02</th>\n",
       "      <td>48.990002</td>\n",
       "      <td>49.480000</td>\n",
       "      <td>48.830002</td>\n",
       "      <td>49.400002</td>\n",
       "      <td>46.919834</td>\n",
       "      <td>868600.0</td>\n",
       "      <td>1.520760</td>\n",
       "      <td>1</td>\n",
       "    </tr>\n",
       "    <tr>\n",
       "      <th>2019-02-13</th>\n",
       "      <td>49.040001</td>\n",
       "      <td>49.279999</td>\n",
       "      <td>49.020000</td>\n",
       "      <td>49.090000</td>\n",
       "      <td>46.625393</td>\n",
       "      <td>868900.0</td>\n",
       "      <td>-0.627533</td>\n",
       "      <td>0</td>\n",
       "    </tr>\n",
       "    <tr>\n",
       "      <th>2019-02-20</th>\n",
       "      <td>49.840000</td>\n",
       "      <td>50.009998</td>\n",
       "      <td>49.549999</td>\n",
       "      <td>49.700001</td>\n",
       "      <td>47.204773</td>\n",
       "      <td>1063800.0</td>\n",
       "      <td>1.242617</td>\n",
       "      <td>1</td>\n",
       "    </tr>\n",
       "    <tr>\n",
       "      <th>...</th>\n",
       "      <td>...</td>\n",
       "      <td>...</td>\n",
       "      <td>...</td>\n",
       "      <td>...</td>\n",
       "      <td>...</td>\n",
       "      <td>...</td>\n",
       "      <td>...</td>\n",
       "      <td>...</td>\n",
       "    </tr>\n",
       "    <tr>\n",
       "      <th>2022-02-02</th>\n",
       "      <td>15.300000</td>\n",
       "      <td>15.300000</td>\n",
       "      <td>13.760000</td>\n",
       "      <td>13.870000</td>\n",
       "      <td>13.870000</td>\n",
       "      <td>65500.0</td>\n",
       "      <td>-9.759271</td>\n",
       "      <td>0</td>\n",
       "    </tr>\n",
       "    <tr>\n",
       "      <th>2022-03-02</th>\n",
       "      <td>13.500000</td>\n",
       "      <td>14.000000</td>\n",
       "      <td>13.310000</td>\n",
       "      <td>13.640000</td>\n",
       "      <td>13.640000</td>\n",
       "      <td>39500.0</td>\n",
       "      <td>-1.658252</td>\n",
       "      <td>0</td>\n",
       "    </tr>\n",
       "    <tr>\n",
       "      <th>2022-04-02</th>\n",
       "      <td>13.620000</td>\n",
       "      <td>14.920000</td>\n",
       "      <td>13.530000</td>\n",
       "      <td>14.720000</td>\n",
       "      <td>14.720000</td>\n",
       "      <td>50700.0</td>\n",
       "      <td>7.917888</td>\n",
       "      <td>1</td>\n",
       "    </tr>\n",
       "    <tr>\n",
       "      <th>2022-07-02</th>\n",
       "      <td>14.590000</td>\n",
       "      <td>16.160000</td>\n",
       "      <td>14.470000</td>\n",
       "      <td>14.960000</td>\n",
       "      <td>14.960000</td>\n",
       "      <td>74000.0</td>\n",
       "      <td>1.630433</td>\n",
       "      <td>1</td>\n",
       "    </tr>\n",
       "    <tr>\n",
       "      <th>2022-08-02</th>\n",
       "      <td>14.800000</td>\n",
       "      <td>15.200000</td>\n",
       "      <td>14.010000</td>\n",
       "      <td>14.700000</td>\n",
       "      <td>14.700000</td>\n",
       "      <td>36000.0</td>\n",
       "      <td>-1.737969</td>\n",
       "      <td>0</td>\n",
       "    </tr>\n",
       "  </tbody>\n",
       "</table>\n",
       "<p>89929 rows × 8 columns</p>\n",
       "</div>"
      ],
      "text/plain": [
       "                 Open       High        Low      Close  Adj Close     Volume  \\\n",
       "Date                                                                           \n",
       "2019-08-02  48.599998  48.930000  48.470001  48.910000  46.454433   906700.0   \n",
       "2019-11-02  48.680000  48.810001  48.419998  48.660000  46.216980  1001200.0   \n",
       "2019-12-02  48.990002  49.480000  48.830002  49.400002  46.919834   868600.0   \n",
       "2019-02-13  49.040001  49.279999  49.020000  49.090000  46.625393   868900.0   \n",
       "2019-02-20  49.840000  50.009998  49.549999  49.700001  47.204773  1063800.0   \n",
       "...               ...        ...        ...        ...        ...        ...   \n",
       "2022-02-02  15.300000  15.300000  13.760000  13.870000  13.870000    65500.0   \n",
       "2022-03-02  13.500000  14.000000  13.310000  13.640000  13.640000    39500.0   \n",
       "2022-04-02  13.620000  14.920000  13.530000  14.720000  14.720000    50700.0   \n",
       "2022-07-02  14.590000  16.160000  14.470000  14.960000  14.960000    74000.0   \n",
       "2022-08-02  14.800000  15.200000  14.010000  14.700000  14.700000    36000.0   \n",
       "\n",
       "            Change %  Return  \n",
       "Date                          \n",
       "2019-08-02  0.000000       1  \n",
       "2019-11-02 -0.511143       0  \n",
       "2019-12-02  1.520760       1  \n",
       "2019-02-13 -0.627533       0  \n",
       "2019-02-20  1.242617       1  \n",
       "...              ...     ...  \n",
       "2022-02-02 -9.759271       0  \n",
       "2022-03-02 -1.658252       0  \n",
       "2022-04-02  7.917888       1  \n",
       "2022-07-02  1.630433       1  \n",
       "2022-08-02 -1.737969       0  \n",
       "\n",
       "[89929 rows x 8 columns]"
      ]
     },
     "execution_count": 12,
     "metadata": {},
     "output_type": "execute_result"
    }
   ],
   "source": [
    "data"
   ]
  },
  {
   "cell_type": "markdown",
   "id": "9d32bfed",
   "metadata": {},
   "source": [
    "# Assume the dataset into Dependent (Y) and Independent(X)"
   ]
  },
  {
   "cell_type": "code",
   "execution_count": 13,
   "id": "430a9d41",
   "metadata": {},
   "outputs": [],
   "source": [
    "X = data.drop(['Change %', 'Return'], axis = 1)\n",
    "Y = data['Return']"
   ]
  },
  {
   "cell_type": "markdown",
   "id": "3480790d",
   "metadata": {},
   "source": [
    "# Split the dataset into training set and test set"
   ]
  },
  {
   "cell_type": "code",
   "execution_count": 14,
   "id": "abb3b59b",
   "metadata": {},
   "outputs": [],
   "source": [
    "from sklearn.model_selection import train_test_split\n",
    "x_train, x_test, y_train, y_test = train_test_split(X,Y, test_size=0.3, random_state=42)"
   ]
  },
  {
   "cell_type": "code",
   "execution_count": 15,
   "id": "d42e7c1d",
   "metadata": {},
   "outputs": [
    {
     "name": "stdout",
     "output_type": "stream",
     "text": [
      "(62950, 6)\n",
      "(26979, 6)\n",
      "(62950,)\n",
      "(26979,)\n"
     ]
    }
   ],
   "source": [
    "print(x_train.shape)\n",
    "print(x_test.shape)\n",
    "print(y_train.shape)\n",
    "print(y_test.shape)"
   ]
  },
  {
   "cell_type": "markdown",
   "id": "bdf292e1",
   "metadata": {},
   "source": [
    "# Normalize the dataset"
   ]
  },
  {
   "cell_type": "code",
   "execution_count": 16,
   "id": "a37a3a76",
   "metadata": {},
   "outputs": [],
   "source": [
    "sc = StandardScaler()\n",
    "normed_x_train = pd.DataFrame(sc.fit_transform(x_train), columns = X.columns)\n",
    "normed_x_test = pd.DataFrame(sc.transform(x_test), columns = X.columns)"
   ]
  },
  {
   "cell_type": "code",
   "execution_count": 17,
   "id": "aeabe28d",
   "metadata": {},
   "outputs": [
    {
     "data": {
      "text/html": [
       "<div>\n",
       "<style scoped>\n",
       "    .dataframe tbody tr th:only-of-type {\n",
       "        vertical-align: middle;\n",
       "    }\n",
       "\n",
       "    .dataframe tbody tr th {\n",
       "        vertical-align: top;\n",
       "    }\n",
       "\n",
       "    .dataframe thead th {\n",
       "        text-align: right;\n",
       "    }\n",
       "</style>\n",
       "<table border=\"1\" class=\"dataframe\">\n",
       "  <thead>\n",
       "    <tr style=\"text-align: right;\">\n",
       "      <th></th>\n",
       "      <th>Open</th>\n",
       "      <th>High</th>\n",
       "      <th>Low</th>\n",
       "      <th>Close</th>\n",
       "      <th>Adj Close</th>\n",
       "      <th>Volume</th>\n",
       "    </tr>\n",
       "  </thead>\n",
       "  <tbody>\n",
       "    <tr>\n",
       "      <th>0</th>\n",
       "      <td>2.360548</td>\n",
       "      <td>2.357222</td>\n",
       "      <td>2.362233</td>\n",
       "      <td>2.359987</td>\n",
       "      <td>2.358087</td>\n",
       "      <td>0.015668</td>\n",
       "    </tr>\n",
       "    <tr>\n",
       "      <th>1</th>\n",
       "      <td>0.298813</td>\n",
       "      <td>0.299564</td>\n",
       "      <td>0.341798</td>\n",
       "      <td>0.302493</td>\n",
       "      <td>0.304398</td>\n",
       "      <td>0.754288</td>\n",
       "    </tr>\n",
       "    <tr>\n",
       "      <th>2</th>\n",
       "      <td>1.359816</td>\n",
       "      <td>1.417442</td>\n",
       "      <td>1.441932</td>\n",
       "      <td>1.427430</td>\n",
       "      <td>1.430527</td>\n",
       "      <td>1.152883</td>\n",
       "    </tr>\n",
       "    <tr>\n",
       "      <th>3</th>\n",
       "      <td>-0.131778</td>\n",
       "      <td>-0.141704</td>\n",
       "      <td>-0.143621</td>\n",
       "      <td>-0.163786</td>\n",
       "      <td>-0.162374</td>\n",
       "      <td>0.540944</td>\n",
       "    </tr>\n",
       "    <tr>\n",
       "      <th>4</th>\n",
       "      <td>0.961805</td>\n",
       "      <td>0.929264</td>\n",
       "      <td>0.887964</td>\n",
       "      <td>0.861701</td>\n",
       "      <td>0.864198</td>\n",
       "      <td>-0.277183</td>\n",
       "    </tr>\n",
       "    <tr>\n",
       "      <th>...</th>\n",
       "      <td>...</td>\n",
       "      <td>...</td>\n",
       "      <td>...</td>\n",
       "      <td>...</td>\n",
       "      <td>...</td>\n",
       "      <td>...</td>\n",
       "    </tr>\n",
       "    <tr>\n",
       "      <th>62945</th>\n",
       "      <td>0.440805</td>\n",
       "      <td>0.399213</td>\n",
       "      <td>0.451589</td>\n",
       "      <td>0.445963</td>\n",
       "      <td>0.448020</td>\n",
       "      <td>0.450306</td>\n",
       "    </tr>\n",
       "    <tr>\n",
       "      <th>62946</th>\n",
       "      <td>-0.585175</td>\n",
       "      <td>-0.577671</td>\n",
       "      <td>-0.585012</td>\n",
       "      <td>-0.601805</td>\n",
       "      <td>-0.600857</td>\n",
       "      <td>-0.933115</td>\n",
       "    </tr>\n",
       "    <tr>\n",
       "      <th>62947</th>\n",
       "      <td>-0.034040</td>\n",
       "      <td>-0.038079</td>\n",
       "      <td>-0.054451</td>\n",
       "      <td>0.001966</td>\n",
       "      <td>0.003553</td>\n",
       "      <td>-0.606076</td>\n",
       "    </tr>\n",
       "    <tr>\n",
       "      <th>62948</th>\n",
       "      <td>2.125433</td>\n",
       "      <td>2.131951</td>\n",
       "      <td>2.227186</td>\n",
       "      <td>2.218690</td>\n",
       "      <td>2.222625</td>\n",
       "      <td>1.109154</td>\n",
       "    </tr>\n",
       "    <tr>\n",
       "      <th>62949</th>\n",
       "      <td>0.604517</td>\n",
       "      <td>0.562999</td>\n",
       "      <td>0.534071</td>\n",
       "      <td>0.491069</td>\n",
       "      <td>0.493174</td>\n",
       "      <td>1.245376</td>\n",
       "    </tr>\n",
       "  </tbody>\n",
       "</table>\n",
       "<p>62950 rows × 6 columns</p>\n",
       "</div>"
      ],
      "text/plain": [
       "           Open      High       Low     Close  Adj Close    Volume\n",
       "0      2.360548  2.357222  2.362233  2.359987   2.358087  0.015668\n",
       "1      0.298813  0.299564  0.341798  0.302493   0.304398  0.754288\n",
       "2      1.359816  1.417442  1.441932  1.427430   1.430527  1.152883\n",
       "3     -0.131778 -0.141704 -0.143621 -0.163786  -0.162374  0.540944\n",
       "4      0.961805  0.929264  0.887964  0.861701   0.864198 -0.277183\n",
       "...         ...       ...       ...       ...        ...       ...\n",
       "62945  0.440805  0.399213  0.451589  0.445963   0.448020  0.450306\n",
       "62946 -0.585175 -0.577671 -0.585012 -0.601805  -0.600857 -0.933115\n",
       "62947 -0.034040 -0.038079 -0.054451  0.001966   0.003553 -0.606076\n",
       "62948  2.125433  2.131951  2.227186  2.218690   2.222625  1.109154\n",
       "62949  0.604517  0.562999  0.534071  0.491069   0.493174  1.245376\n",
       "\n",
       "[62950 rows x 6 columns]"
      ]
     },
     "execution_count": 17,
     "metadata": {},
     "output_type": "execute_result"
    }
   ],
   "source": [
    "normed_x_train"
   ]
  },
  {
   "cell_type": "markdown",
   "id": "5cb37c37",
   "metadata": {},
   "source": [
    "# Fit the Support Vector Machine Classifier Model"
   ]
  },
  {
   "cell_type": "code",
   "execution_count": 18,
   "id": "80cbd63e",
   "metadata": {},
   "outputs": [
    {
     "data": {
      "text/plain": [
       "SVC(kernel='linear')"
      ]
     },
     "execution_count": 18,
     "metadata": {},
     "output_type": "execute_result"
    }
   ],
   "source": [
    "from sklearn.svm import SVC\n",
    "classifier=SVC(kernel = 'linear')\n",
    "classifier.fit(normed_x_train, y_train)"
   ]
  },
  {
   "cell_type": "code",
   "execution_count": 19,
   "id": "212532cc",
   "metadata": {},
   "outputs": [
    {
     "data": {
      "text/plain": [
       "array([1, 1, 1, ..., 0, 1, 1], dtype=int64)"
      ]
     },
     "execution_count": 19,
     "metadata": {},
     "output_type": "execute_result"
    }
   ],
   "source": [
    "classifier_predict = classifier.predict(normed_x_test)\n",
    "classifier_predict"
   ]
  },
  {
   "cell_type": "code",
   "execution_count": 20,
   "id": "a46cae3c",
   "metadata": {},
   "outputs": [
    {
     "name": "stdout",
     "output_type": "stream",
     "text": [
      "Accuracy: 0.8634493494940509\n"
     ]
    }
   ],
   "source": [
    "from sklearn import metrics\n",
    "print(\"Accuracy:\",metrics.accuracy_score(y_test, classifier_predict))"
   ]
  },
  {
   "cell_type": "markdown",
   "id": "e2fd6296",
   "metadata": {},
   "source": [
    "# Cross validation and confusion matrix"
   ]
  },
  {
   "cell_type": "code",
   "execution_count": 21,
   "id": "dc78a153",
   "metadata": {},
   "outputs": [],
   "source": [
    "from sklearn.model_selection import cross_val_score\n",
    "from sklearn.metrics import classification_report, confusion_matrix"
   ]
  },
  {
   "cell_type": "code",
   "execution_count": 22,
   "id": "2dabbe01",
   "metadata": {},
   "outputs": [
    {
     "name": "stdout",
     "output_type": "stream",
     "text": [
      "=== Confusion Matrix ===\n",
      "[[ 9374  2715]\n",
      " [  969 13921]]\n",
      "\n",
      "\n",
      "=== Classification Report ===\n",
      "              precision    recall  f1-score   support\n",
      "\n",
      "           0       0.91      0.78      0.84     12089\n",
      "           1       0.84      0.93      0.88     14890\n",
      "\n",
      "    accuracy                           0.86     26979\n",
      "   macro avg       0.87      0.86      0.86     26979\n",
      "weighted avg       0.87      0.86      0.86     26979\n",
      "\n"
     ]
    }
   ],
   "source": [
    "print(\"=== Confusion Matrix ===\")\n",
    "print(confusion_matrix(y_test, classifier_predict))\n",
    "print('\\n')\n",
    "print(\"=== Classification Report ===\")\n",
    "print(classification_report(y_test, classifier_predict))"
   ]
  },
  {
   "cell_type": "markdown",
   "id": "9404e372",
   "metadata": {},
   "source": [
    "# Collect future days from predicted values and plot"
   ]
  },
  {
   "cell_type": "code",
   "execution_count": 29,
   "id": "e4fde8e0",
   "metadata": {},
   "outputs": [],
   "source": [
    "predictions = pd.DataFrame({\"Predictions\": classifier_predict}, index=pd.date_range(start='2022-3-21', periods=len(classifier_predict), freq=\"D\"))\n",
    "predictions.to_csv(\"Predicted-price-data.csv\")\n",
    "#colllects future days from predicted values\n",
    "oneyear_df = pd.DataFrame(predictions[:366])\n",
    "oneyear_df.to_csv(\"one-year-predictions.csv\")\n",
    "onemonth_df = pd.DataFrame(predictions[:31])\n",
    "onemonth_df.to_csv(\"one-month-predictions.csv\")\n",
    "fivedays_df = pd.DataFrame(predictions[:5])\n",
    "fivedays_df.to_csv(\"five-days-predictions.csv\")"
   ]
  },
  {
   "cell_type": "markdown",
   "id": "565311c9",
   "metadata": {},
   "source": [
    "# (i) One Year Prediction"
   ]
  },
  {
   "cell_type": "code",
   "execution_count": 30,
   "id": "7216cab2",
   "metadata": {},
   "outputs": [
    {
     "name": "stdout",
     "output_type": "stream",
     "text": [
      "Buy price and date\n",
      "            Predictions\n",
      "Unnamed: 0             \n",
      "2022-03-24            0\n",
      "2022-04-01            0\n",
      "2022-04-02            0\n",
      "2022-04-03            0\n",
      "2022-04-05            0\n",
      "...                 ...\n",
      "2023-03-05            0\n",
      "2023-03-08            0\n",
      "2023-03-11            0\n",
      "2023-03-12            0\n",
      "2023-03-15            0\n",
      "\n",
      "[129 rows x 1 columns]\n",
      "Sell price and date\n",
      "            Predictions\n",
      "Unnamed: 0             \n",
      "2022-03-21            1\n",
      "2022-03-22            1\n",
      "2022-03-23            1\n",
      "2022-03-25            1\n",
      "2022-03-26            1\n",
      "...                 ...\n",
      "2023-03-17            1\n",
      "2023-03-18            1\n",
      "2023-03-19            1\n",
      "2023-03-20            1\n",
      "2023-03-21            1\n",
      "\n",
      "[237 rows x 1 columns]\n"
     ]
    },
    {
     "data": {
      "image/png": "[encoded data removed]",
      "text/plain": [
       "<Figure size 720x360 with 1 Axes>"
      ]
     },
     "metadata": {
      "needs_background": "light"
     },
     "output_type": "display_data"
    }
   ],
   "source": [
    "oneyear_df_pred = pd.read_csv(\"one-year-predictions.csv\")\n",
    "oneyear_df_pred.set_index(\"Unnamed: 0\", inplace=True)\n",
    "\n",
    "\n",
    "buy_price = min(oneyear_df_pred[\"Predictions\"])\n",
    "sell_price = max(oneyear_df_pred[\"Predictions\"])\n",
    "oneyear_buy = oneyear_df_pred.loc[oneyear_df_pred[\"Predictions\"] == buy_price]\n",
    "oneyear_sell = oneyear_df_pred.loc[oneyear_df_pred[\"Predictions\"] == sell_price]\n",
    "print(\"Buy price and date\")\n",
    "print(oneyear_buy)\n",
    "print(\"Sell price and date\")\n",
    "print(oneyear_sell)\n",
    "oneyear_df_pred[\"Predictions\"].plot(figsize=(10, 5), title=\"Prediction for the next 1 year\", color=\"Green\")\n",
    "plt.xlabel(\"Date\")\n",
    "plt.ylabel(\"Price\")\n",
    "plt.legend()\n",
    "plt.show()"
   ]
  },
  {
   "cell_type": "code",
   "execution_count": 31,
   "id": "6493dd7f",
   "metadata": {},
   "outputs": [
    {
     "data": {
      "text/html": [
       "<div>\n",
       "<style scoped>\n",
       "    .dataframe tbody tr th:only-of-type {\n",
       "        vertical-align: middle;\n",
       "    }\n",
       "\n",
       "    .dataframe tbody tr th {\n",
       "        vertical-align: top;\n",
       "    }\n",
       "\n",
       "    .dataframe thead th {\n",
       "        text-align: right;\n",
       "    }\n",
       "</style>\n",
       "<table border=\"1\" class=\"dataframe\">\n",
       "  <thead>\n",
       "    <tr style=\"text-align: right;\">\n",
       "      <th></th>\n",
       "      <th>Predictions</th>\n",
       "    </tr>\n",
       "    <tr>\n",
       "      <th>Unnamed: 0</th>\n",
       "      <th></th>\n",
       "    </tr>\n",
       "  </thead>\n",
       "  <tbody>\n",
       "    <tr>\n",
       "      <th>2022-03-21</th>\n",
       "      <td>1</td>\n",
       "    </tr>\n",
       "    <tr>\n",
       "      <th>2022-03-22</th>\n",
       "      <td>1</td>\n",
       "    </tr>\n",
       "    <tr>\n",
       "      <th>2022-03-23</th>\n",
       "      <td>1</td>\n",
       "    </tr>\n",
       "    <tr>\n",
       "      <th>2022-03-24</th>\n",
       "      <td>0</td>\n",
       "    </tr>\n",
       "    <tr>\n",
       "      <th>2022-03-25</th>\n",
       "      <td>1</td>\n",
       "    </tr>\n",
       "    <tr>\n",
       "      <th>...</th>\n",
       "      <td>...</td>\n",
       "    </tr>\n",
       "    <tr>\n",
       "      <th>2023-03-17</th>\n",
       "      <td>1</td>\n",
       "    </tr>\n",
       "    <tr>\n",
       "      <th>2023-03-18</th>\n",
       "      <td>1</td>\n",
       "    </tr>\n",
       "    <tr>\n",
       "      <th>2023-03-19</th>\n",
       "      <td>1</td>\n",
       "    </tr>\n",
       "    <tr>\n",
       "      <th>2023-03-20</th>\n",
       "      <td>1</td>\n",
       "    </tr>\n",
       "    <tr>\n",
       "      <th>2023-03-21</th>\n",
       "      <td>1</td>\n",
       "    </tr>\n",
       "  </tbody>\n",
       "</table>\n",
       "<p>366 rows × 1 columns</p>\n",
       "</div>"
      ],
      "text/plain": [
       "            Predictions\n",
       "Unnamed: 0             \n",
       "2022-03-21            1\n",
       "2022-03-22            1\n",
       "2022-03-23            1\n",
       "2022-03-24            0\n",
       "2022-03-25            1\n",
       "...                 ...\n",
       "2023-03-17            1\n",
       "2023-03-18            1\n",
       "2023-03-19            1\n",
       "2023-03-20            1\n",
       "2023-03-21            1\n",
       "\n",
       "[366 rows x 1 columns]"
      ]
     },
     "execution_count": 31,
     "metadata": {},
     "output_type": "execute_result"
    }
   ],
   "source": [
    "oneyear_df_pred"
   ]
  },
  {
   "cell_type": "markdown",
   "id": "142a9224",
   "metadata": {},
   "source": [
    "# (ii) One Month Prediction"
   ]
  },
  {
   "cell_type": "code",
   "execution_count": 32,
   "id": "4fe1a9a0",
   "metadata": {},
   "outputs": [
    {
     "name": "stdout",
     "output_type": "stream",
     "text": [
      "Buy price and date\n",
      "            Predictions\n",
      "Unnamed: 0             \n",
      "2022-03-24            0\n",
      "2022-04-01            0\n",
      "2022-04-02            0\n",
      "2022-04-03            0\n",
      "2022-04-05            0\n",
      "2022-04-06            0\n",
      "2022-04-09            0\n",
      "2022-04-10            0\n",
      "2022-04-12            0\n",
      "2022-04-15            0\n",
      "2022-04-17            0\n",
      "Sell price and date\n",
      "            Predictions\n",
      "Unnamed: 0             \n",
      "2022-03-21            1\n",
      "2022-03-22            1\n",
      "2022-03-23            1\n",
      "2022-03-25            1\n",
      "2022-03-26            1\n",
      "2022-03-27            1\n",
      "2022-03-28            1\n",
      "2022-03-29            1\n",
      "2022-03-30            1\n",
      "2022-03-31            1\n",
      "2022-04-04            1\n",
      "2022-04-07            1\n",
      "2022-04-08            1\n",
      "2022-04-11            1\n",
      "2022-04-13            1\n",
      "2022-04-14            1\n",
      "2022-04-16            1\n",
      "2022-04-18            1\n",
      "2022-04-19            1\n",
      "2022-04-20            1\n"
     ]
    },
    {
     "data": {
      "image/png": "[encoded data removed]",
      "text/plain": [
       "<Figure size 720x360 with 1 Axes>"
      ]
     },
     "metadata": {
      "needs_background": "light"
     },
     "output_type": "display_data"
    }
   ],
   "source": [
    "onemonth_df_pred = pd.read_csv(\"one-month-predictions.csv\")\n",
    "onemonth_df_pred.set_index(\"Unnamed: 0\", inplace=True)\n",
    "buy_price = min(onemonth_df_pred[\"Predictions\"])\n",
    "sell_price = max(onemonth_df_pred[\"Predictions\"])\n",
    "onemonth_buy = onemonth_df_pred.loc[onemonth_df_pred[\"Predictions\"] == buy_price]\n",
    "onemonth_sell = onemonth_df_pred.loc[onemonth_df_pred[\"Predictions\"] == sell_price]\n",
    "print(\"Buy price and date\")\n",
    "print(onemonth_buy)\n",
    "print(\"Sell price and date\")\n",
    "print(onemonth_sell)\n",
    "onemonth_df_pred[\"Predictions\"].plot(figsize=(10, 5), title=\"Prediction for the next 1 month\", color=\"crimson\")\n",
    "plt.xlabel(\"Date\")\n",
    "plt.ylabel(\"Price\")\n",
    "plt.legend()\n",
    "plt.show()"
   ]
  },
  {
   "cell_type": "markdown",
   "id": "e1d77d46",
   "metadata": {},
   "source": [
    "# (iii) Five Days Prediction"
   ]
  },
  {
   "cell_type": "code",
   "execution_count": 33,
   "id": "748abad6",
   "metadata": {},
   "outputs": [
    {
     "name": "stdout",
     "output_type": "stream",
     "text": [
      "Buy price and date\n",
      "            Predictions\n",
      "Unnamed: 0             \n",
      "2022-03-24            0\n",
      "Sell price and date\n",
      "            Predictions\n",
      "Unnamed: 0             \n",
      "2022-03-21            1\n",
      "2022-03-22            1\n",
      "2022-03-23            1\n",
      "2022-03-25            1\n"
     ]
    },
    {
     "data": {
      "image/png": "[encoded data removed]",
      "text/plain": [
       "<Figure size 720x360 with 1 Axes>"
      ]
     },
     "metadata": {
      "needs_background": "light"
     },
     "output_type": "display_data"
    }
   ],
   "source": [
    "fivedays_df_pred = pd.read_csv(\"five-days-predictions.csv\")\n",
    "fivedays_df_pred.set_index(\"Unnamed: 0\", inplace=True)\n",
    "buy_price = min(fivedays_df_pred[\"Predictions\"])\n",
    "sell_price = max(fivedays_df_pred[\"Predictions\"])\n",
    "fivedays_buy = fivedays_df_pred.loc[fivedays_df_pred[\"Predictions\"] == buy_price]\n",
    "fivedays_sell = fivedays_df_pred.loc[fivedays_df_pred[\"Predictions\"] == sell_price]\n",
    "print(\"Buy price and date\")\n",
    "print(fivedays_buy)\n",
    "print(\"Sell price and date\")\n",
    "print(fivedays_sell)\n",
    "fivedays_df_pred[\"Predictions\"].plot(figsize=(10, 5), title=\"Prediction for the next 5 days\", color=\"Green\")\n",
    "plt.xlabel(\"Date\")\n",
    "plt.ylabel(\"Price\")\n",
    "plt.legend()\n",
    "plt.show()"
   ]
  },
  {
   "cell_type": "markdown",
   "id": "6939a767",
   "metadata": {},
   "source": [
    "# Save this SVM model:"
   ]
  },
  {
   "cell_type": "code",
   "execution_count": 34,
   "id": "c02d8520",
   "metadata": {},
   "outputs": [],
   "source": [
    "pickle.dump(classifier, open(\"svm_model.pkl\", \"wb\"))"
   ]
  },
  {
   "cell_type": "markdown",
   "id": "9e4d33e3",
   "metadata": {},
   "source": [
    "# Conclusion:"
   ]
  },
  {
   "cell_type": "markdown",
   "id": "54d257f0",
   "metadata": {},
   "source": [
    " There are different approaches to solving these problems.\n",
    " \n",
    " By using Support Vector Machine, We are getting a accuracy 0.86, the accuracy is good so i predicted for the future days ( for 1 year, for 1 month, for 5 days)."
   ]
  },
  {
   "cell_type": "markdown",
   "id": "aa583d45",
   "metadata": {},
   "source": [
    "                                                                                                Author : Santhosh Kumar M"
   ]
  }
 ],
 "metadata": {
  "kernelspec": {
   "display_name": "Python 3 (ipykernel)",
   "language": "python",
   "name": "python3"
  },
  "language_info": {
   "codemirror_mode": {
    "name": "ipython",
    "version": 3
   },
   "file_extension": ".py",
   "mimetype": "text/x-python",
   "name": "python",
   "nbconvert_exporter": "python",
   "pygments_lexer": "ipython3",
   "version": "3.9.7"
  }
 },
 "nbformat": 4,
 "nbformat_minor": 5
}
